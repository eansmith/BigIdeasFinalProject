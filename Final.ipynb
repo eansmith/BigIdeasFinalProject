{
 "cells": [
  {
   "cell_type": "markdown",
   "metadata": {},
   "source": [
    "## Intro\n",
    "In this project, we gathered information about Pittsburgh neighborhoods to see which neighborhood would be the most ideal for a robber (criminal) to live in. Our approach was to get the amount of arrests in Pittsburgh neighborhoods, the amount of firearm seizures in the Pittsburgh neighborhoods, and then the Pittsburgh nighborhood with the most supermarkets to rob from. The neighborhhod with the least firearm seizures, the least arrests, and the most supermarkets is the best neighborhood. We came up with these data sets by looking at the different datasets that had data about criminal activity. "
   ]
  },
  {
   "cell_type": "markdown",
   "metadata": {},
   "source": [
    "## Metric\n",
    "The datasets that we are using are the amount of arrests in Pittsburgh neighborhoods, the amount of firearm seizures in Pittsburgh neighborhoods, and the amount of supermarkets in Pittsburgh neighborhoods. \n",
    "\n",
    "The final metric is calculated by amount of stores / (amount of retail arrests + amount of gun seizures) to be able to get the mathmatically \"best\" neighborhood for a robber according to our datasets by getting which neighborhhod has the most supermarkets and the least firearm seizures and arrests. "
   ]
  },
  {
   "cell_type": "code",
   "execution_count": 11,
   "metadata": {},
   "outputs": [
    {
     "name": "stdout",
     "output_type": "stream",
     "text": [
      "{'Lincoln Place': 0.01293103448275862, 'Central Business District': 0.0038795070743952533, 'South Shore': 0.003257328990228013, 'Homewood South': 0.0012531328320802004, 'Greenfield': 0.008992805755395683, 'Northview Heights': 0.0013280212483399733, 'Shadyside': 0.009183673469387756, 'East Hills': 0.0007698229407236335, 'Terrace Village': 0.005934718100890208, 'Squirrel Hill South': 0.005847953216374269, 'Spring Garden': 0.013392857142857142, 'Strip District': 0.01744186046511628, 'South Side Flats': 0.0022259321090706734, 'Garfield': 0.0024937655860349127, 'Troy Hill': 0.00641025641025641, 'Brookline': 0.004912280701754386, 'Central Oakland': 0.011278195488721804, 'Upper Lawrenceville': 0.00966183574879227, 'North Oakland': 0.01098901098901099, 'Chateau': 0.002109704641350211, 'Crawford-Roberts': 0.00461361014994233, 'Central Northside': 0.02830188679245283, 'Polish Hill': 0.005813953488372093, 'Morningside': 0.009389671361502348, 'Middle Hill': 0.001968503937007874, 'Bloomfield': 0.010679611650485437, 'Carrick': 0.0036749693752552064, 'Summer Hill': 0.012987012987012988, 'Banksville': 0.006711409395973154, 'Highland Park': 0.001692047377326565, 'Perry North': 0.001589825119236884, 'Central Lawrenceville': 0.004424778761061947, 'Arlington': 0.0029239766081871343, 'Marshall-Shadeland': 0.0024405125076266015, 'Lower Lawrenceville': 0.0071174377224199285, 'Mount Washington': 0.003324468085106383, 'South Oakland': 0.002717391304347826, 'Allentown': 0.0009794319294809011, 'East Allegheny': 0.0018034265103697023, 'Westwood': 0.008620689655172414, 'Bluff': 0.0026298487836949377, 'Homewood West': 0.0012285012285012285, 'Point Breeze': 0.0030581039755351682, 'East Liberty': 0.001996007984031936, 'Larimer': 0.004036326942482341, 'Homewood North': 0.00047824007651841227, 'Sheraden': 0.0007251631617113851, 'Upper Hill': 0.0024937655860349127, 'Beltzhoover': 0.003738317757009346, 'Friendship': 0.011494252873563218, 'Esplen': 0.004807692307692308, 'Spring Hill-City View': 0.0012836970474967907, 'West Oakland': 0.003067484662576687, 'Duquesne Heights': 0.0048543689320388345, 'Bedford Dwellings': 0.0013531799729364006, 'Beechview': 0.0015772870662460567, 'Point Breeze North': 0.006711409395973154, 'South Side Slopes': 0.0012062726176115801, 'Elliott': 0.0014144271570014145, 'Knoxville': 0.0014074595355383533, 'Manchester': 0.0018832391713747645, 'Lincoln-Lemington-Belmar': 0.0013726835964310226, 'Squirrel Hill North': 0.0033444816053511705}\n",
      "17 4257 125\n"
     ]
    }
   ],
   "source": [
    "import json\n",
    " \n",
    "arrests = json.load(open('arrests.json')) \n",
    "seizures = json.load(open('seizures.json')) \n",
    "supermarkets = json.load(open('supermarkets.json')) \n",
    "\n",
    "finalData = {}\n",
    "\n",
    "for town in supermarkets:\n",
    "    score = supermarkets[town]/(arrests[town]+seizures[town])\n",
    "\n",
    "    finalData[town] = score\n",
    "\n",
    "print(finalData)\n",
    "\n",
    "sortedData = dict(sorted(finalData.items(), key=lambda item: item[1]))\n",
    "\n",
    "print(sortedData)\n",
    "\n",
    "#print(supermarkets['Lincoln Place'],arrests['Lincoln Place'],seizures['Lincoln Place'])\n",
    "#print(supermarkets['Central Business District'],arrests['Central Business District'],seizures['Central Business District'])"
   ]
  },
  {
   "cell_type": "markdown",
   "metadata": {},
   "source": [
    "## The Best Neighborhood\n",
    "The best neighborhoods, according to our data is "
   ]
  },
  {
   "cell_type": "markdown",
   "metadata": {},
   "source": [
    "## Conclusion"
   ]
  },
  {
   "cell_type": "code",
   "execution_count": null,
   "metadata": {},
   "outputs": [],
   "source": []
  }
 ],
 "metadata": {
  "kernelspec": {
   "display_name": "Python 3",
   "language": "python",
   "name": "python3"
  },
  "language_info": {
   "codemirror_mode": {
    "name": "ipython",
    "version": 3
   },
   "file_extension": ".py",
   "mimetype": "text/x-python",
   "name": "python",
   "nbconvert_exporter": "python",
   "pygments_lexer": "ipython3",
   "version": "3.10.11"
  }
 },
 "nbformat": 4,
 "nbformat_minor": 4
}
