{
 "cells": [
  {
   "cell_type": "markdown",
   "metadata": {},
   "source": [
    "Firearm Seizures "
   ]
  },
  {
   "cell_type": "code",
   "execution_count": 2,
   "metadata": {},
   "outputs": [],
   "source": [
    "import pandas as pd\n",
    "\n",
    "firearmSeizures = pd.read_csv(\"FirearmSeizures.csv\")\n",
    "\n",
    "%matplotlib inline"
   ]
  },
  {
   "cell_type": "code",
   "execution_count": 3,
   "metadata": {},
   "outputs": [
    {
     "name": "stdout",
     "output_type": "stream",
     "text": [
      "{'Mount Oliver Borough': 9, 'Sheraden': 121, 'Terrace Village': 45, 'Brighton Heights': 149, nan: 1004, 'Westwood': 10, 'East Liberty': 148, 'Upper Lawrenceville': 20, 'Marshall-Shadeland': 148, 'Beechview': 101, 'East Hills': 137, 'Arlington': 40, 'Arlington Heights': 10, 'Mount Washington': 90, 'South Side Flats': 208, 'Hazelwood': 144, 'Homewood South': 345, 'Greenfield': 25, 'Bloomfield': 58, 'Beltzhoover': 46, 'Homewood North': 159, 'Upper Hill': 37, 'Perry South': 136, 'Lincoln-Lemington-Belmar': 136, 'Bedford Dwellings': 83, 'Homewood West': 61, 'Carrick': 148, 'Central Northside': 83, 'Chateau': 26, 'Fineview': 75, 'Chartiers City': 4, 'Larimer': 126, 'Polish Hill': 10, 'South Shore': 13, 'Highland Park': 42, 'Knoxville': 119, 'Lower Lawrenceville': 17, 'Allentown': 91, 'Spring Hill-City View': 77, 'Garfield': 95, 'Bluff': 58, 'Overbrook': 29, 'South Side Slopes': 40, 'Central Business District': 125, 'Banksville': 10, 'Perry North': 44, 'Friendship': 5, 'Crawford-Roberts': 57, 'Middle Hill': 96, 'Brookline': 79, 'Point Breeze': 30, 'Crafton Heights': 63, 'Northview Heights': 56, 'South Oakland': 22, 'Point Breeze North': 19, 'East Allegheny': 62, 'Elliott': 57, 'Fairywood': 9, 'Shadyside': 29, 'Allegheny West': 17, 'Manchester': 72, 'North Oakland': 21, 'Troy Hill': 41, 'West Oakland': 14, 'Summer Hill': 3, 'Spring Garden': 11, 'Stanton Heights': 15, 'Allegheny Center': 18, 'Glen Hazel': 17, 'Squirrel Hill South': 47, 'California-Kirkbride': 33, 'Strip District': 24, 'Squirrel Hill North': 14, 'Morningside': 28, 'Central Oakland': 20, 'Central Lawrenceville': 27, 'Regent Square': 4, 'St. Clair': 7, 'Duquesne Heights': 19, 'Oakwood': 4, 'Windgap': 15, 'Bon Air': 12, 'North Shore': 20, 'Lincoln Place': 10, 'Mt. Oliver': 4, 'West End': 6, 'Esplen': 10, 'Hays': 8, 'Swisshelm Park': 3}\n"
     ]
    }
   ],
   "source": [
    "##testing to see how many fire arm seizures are in each neighbor\n",
    "nghFreq = {}\n",
    "\n",
    "for index, row in firearmSeizures.iterrows():\n",
    "    ngh = row[\"neighborhood\"]\n",
    "    count = row[\"total_count\"]\n",
    "    \n",
    "    if(ngh in nghFreq):\n",
    "        nghFreq[ngh] += count\n",
    "    else:\n",
    "        nghFreq[ngh] = count\n",
    "        \n",
    "print(nghFreq)"
   ]
  },
  {
   "cell_type": "markdown",
   "metadata": {},
   "source": [
    "Conclusion: For our goal we also want the least amount of firearm seizures for our \"Best\" neighborhood. According to this dataset, the four most optimal ones right now are Summer Hill, Regent Square, Mt. Oliver, Chartiers City, and Northview Heights."
   ]
  },
  {
   "cell_type": "code",
   "execution_count": 4,
   "metadata": {},
   "outputs": [],
   "source": [
    "import json\n",
    "\n",
    "with open('seizures.json', 'w') as fp:\n",
    "    json.dump(nghFreq, fp)"
   ]
  }
 ],
 "metadata": {
  "kernelspec": {
   "display_name": "Python 3",
   "language": "python",
   "name": "python3"
  },
  "language_info": {
   "codemirror_mode": {
    "name": "ipython",
    "version": 3
   },
   "file_extension": ".py",
   "mimetype": "text/x-python",
   "name": "python",
   "nbconvert_exporter": "python",
   "pygments_lexer": "ipython3",
   "version": "3.8.3"
  }
 },
 "nbformat": 4,
 "nbformat_minor": 4
}
