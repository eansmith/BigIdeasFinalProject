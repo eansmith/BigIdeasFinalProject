{
 "cells": [
  {
   "cell_type": "markdown",
   "metadata": {},
   "source": [
    "## Intro\n",
    "In this project, we gathered information about Pittsburgh neighborhoods to see which neighborhood would be the most ideal for a robber (criminal) to live in. Our approach was to get the amount of arrests in Pittsburgh neighborhoods, the amount of firearm seizures in the Pittsburgh neighborhoods, and then the Pittsburgh nighborhood with the most supermarkets to rob from. The neighborhhod with the least firearm seizures, the least arrests, and the most supermarkets is the best neighborhood. We came up with these data sets by looking at the different datasets that had data about criminal activity. "
   ]
  },
  {
   "cell_type": "markdown",
   "metadata": {},
   "source": [
    "## Metric\n",
    "The datasets that we are using are the amount of arrests in Pittsburgh neighborhoods, the amount of firearm seizures in Pittsburgh neighborhoods, and the amount of supermarkets in Pittsburgh neighborhoods. \n",
    "\n",
    "The final metric is calculated by amount of stores / (amount of retail arrests + amount of gun seizures) to be able to get the mathmatically \"best\" neighborhood for a robber according to our datasets by getting which neighborhhod has the most supermarkets and the least firearm seizures and arrests. "
   ]
  },
  {
   "cell_type": "markdown",
   "metadata": {},
   "source": [
    "## The Best Neighborhood\n",
    "The best neighborhoods, according to our data is "
   ]
  },
  {
   "cell_type": "markdown",
   "metadata": {},
   "source": [
    "## Conclusion"
   ]
  },
  {
   "cell_type": "code",
   "execution_count": null,
   "metadata": {},
   "outputs": [],
   "source": []
  }
 ],
 "metadata": {
  "kernelspec": {
   "display_name": "Python 3",
   "language": "python",
   "name": "python3"
  },
  "language_info": {
   "codemirror_mode": {
    "name": "ipython",
    "version": 3
   },
   "file_extension": ".py",
   "mimetype": "text/x-python",
   "name": "python",
   "nbconvert_exporter": "python",
   "pygments_lexer": "ipython3",
   "version": "3.8.3"
  }
 },
 "nbformat": 4,
 "nbformat_minor": 4
}
